{
 "cells": [
  {
   "cell_type": "code",
   "execution_count": 11,
   "metadata": {},
   "outputs": [
    {
     "data": {
      "text/html": [
       "<div>\n",
       "<style scoped>\n",
       "    .dataframe tbody tr th:only-of-type {\n",
       "        vertical-align: middle;\n",
       "    }\n",
       "\n",
       "    .dataframe tbody tr th {\n",
       "        vertical-align: top;\n",
       "    }\n",
       "\n",
       "    .dataframe thead th {\n",
       "        text-align: right;\n",
       "    }\n",
       "</style>\n",
       "<table border=\"1\" class=\"dataframe\">\n",
       "  <thead>\n",
       "    <tr style=\"text-align: right;\">\n",
       "      <th></th>\n",
       "      <th>Date</th>\n",
       "      <th>Open</th>\n",
       "      <th>High</th>\n",
       "      <th>Low</th>\n",
       "      <th>Close</th>\n",
       "      <th>Adj Close</th>\n",
       "      <th>Volume</th>\n",
       "    </tr>\n",
       "  </thead>\n",
       "  <tbody>\n",
       "    <tr>\n",
       "      <th>0</th>\n",
       "      <td>2017-02-08</td>\n",
       "      <td>143.570007</td>\n",
       "      <td>145.070007</td>\n",
       "      <td>142.559998</td>\n",
       "      <td>144.740005</td>\n",
       "      <td>144.740005</td>\n",
       "      <td>6887100</td>\n",
       "    </tr>\n",
       "    <tr>\n",
       "      <th>1</th>\n",
       "      <td>2017-02-09</td>\n",
       "      <td>144.979996</td>\n",
       "      <td>145.089996</td>\n",
       "      <td>143.580002</td>\n",
       "      <td>144.139999</td>\n",
       "      <td>144.139999</td>\n",
       "      <td>4555100</td>\n",
       "    </tr>\n",
       "    <tr>\n",
       "      <th>2</th>\n",
       "      <td>2017-02-10</td>\n",
       "      <td>144.679993</td>\n",
       "      <td>145.300003</td>\n",
       "      <td>143.970001</td>\n",
       "      <td>144.820007</td>\n",
       "      <td>144.820007</td>\n",
       "      <td>6171900</td>\n",
       "    </tr>\n",
       "    <tr>\n",
       "      <th>3</th>\n",
       "      <td>2017-02-13</td>\n",
       "      <td>145.190002</td>\n",
       "      <td>145.949997</td>\n",
       "      <td>143.050003</td>\n",
       "      <td>143.199997</td>\n",
       "      <td>143.199997</td>\n",
       "      <td>4790400</td>\n",
       "    </tr>\n",
       "    <tr>\n",
       "      <th>4</th>\n",
       "      <td>2017-02-14</td>\n",
       "      <td>143.199997</td>\n",
       "      <td>144.110001</td>\n",
       "      <td>140.050003</td>\n",
       "      <td>140.820007</td>\n",
       "      <td>140.820007</td>\n",
       "      <td>8367800</td>\n",
       "    </tr>\n",
       "  </tbody>\n",
       "</table>\n",
       "</div>"
      ],
      "text/plain": [
       "         Date        Open        High         Low       Close   Adj Close  \\\n",
       "0  2017-02-08  143.570007  145.070007  142.559998  144.740005  144.740005   \n",
       "1  2017-02-09  144.979996  145.089996  143.580002  144.139999  144.139999   \n",
       "2  2017-02-10  144.679993  145.300003  143.970001  144.820007  144.820007   \n",
       "3  2017-02-13  145.190002  145.949997  143.050003  143.199997  143.199997   \n",
       "4  2017-02-14  143.199997  144.110001  140.050003  140.820007  140.820007   \n",
       "\n",
       "    Volume  \n",
       "0  6887100  \n",
       "1  4555100  \n",
       "2  6171900  \n",
       "3  4790400  \n",
       "4  8367800  "
      ]
     },
     "execution_count": 11,
     "metadata": {},
     "output_type": "execute_result"
    }
   ],
   "source": [
    "import os\n",
    "\n",
    "import pandas as pd\n",
    "import numpy as np\n",
    "import matplotlib.pyplot as plt\n",
    "import seaborn as sns\n",
    "import warnings\n",
    "warnings.filterwarnings(\"ignore\") \n",
    "from statsmodels.tsa.stattools import adfuller\n",
    "from statsmodels.tsa.seasonal import seasonal_decompose\n",
    "from statsmodels.tsa.arima_model import ARIMA\n",
    "from pmdarima.arima import auto_arima\n",
    "from sklearn.metrics import mean_squared_error, mean_absolute_error\n",
    "import math\n",
    "\n",
    "df = pd.read_csv(os.path.join(\"data\", \"NFLX.csv\"))\n",
    "df.head()"
   ]
  },
  {
   "cell_type": "code",
   "execution_count": 12,
   "metadata": {},
   "outputs": [
    {
     "name": "stdout",
     "output_type": "stream",
     "text": [
      "<class 'pandas.core.frame.DataFrame'>\n",
      "RangeIndex: 1259 entries, 0 to 1258\n",
      "Data columns (total 7 columns):\n",
      " #   Column     Non-Null Count  Dtype  \n",
      "---  ------     --------------  -----  \n",
      " 0   Date       1259 non-null   object \n",
      " 1   Open       1259 non-null   float64\n",
      " 2   High       1259 non-null   float64\n",
      " 3   Low        1259 non-null   float64\n",
      " 4   Close      1259 non-null   float64\n",
      " 5   Adj Close  1259 non-null   float64\n",
      " 6   Volume     1259 non-null   int64  \n",
      "dtypes: float64(5), int64(1), object(1)\n",
      "memory usage: 69.0+ KB\n"
     ]
    }
   ],
   "source": [
    "df.info()"
   ]
  },
  {
   "cell_type": "code",
   "execution_count": 13,
   "metadata": {},
   "outputs": [
    {
     "data": {
      "text/plain": [
       "Date         0\n",
       "Open         0\n",
       "High         0\n",
       "Low          0\n",
       "Close        0\n",
       "Adj Close    0\n",
       "Volume       0\n",
       "dtype: int64"
      ]
     },
     "execution_count": 13,
     "metadata": {},
     "output_type": "execute_result"
    }
   ],
   "source": [
    "df.isna().sum()"
   ]
  },
  {
   "cell_type": "code",
   "execution_count": 14,
   "metadata": {},
   "outputs": [],
   "source": [
    "df['Date'] = pd.to_datetime(df['Date'])"
   ]
  },
  {
   "cell_type": "code",
   "execution_count": 15,
   "metadata": {},
   "outputs": [],
   "source": [
    "df_sort = df.sort_values(by='Date', ascending=True)"
   ]
  },
  {
   "cell_type": "code",
   "execution_count": 16,
   "metadata": {},
   "outputs": [
    {
     "data": {
      "text/html": [
       "<div>\n",
       "<style scoped>\n",
       "    .dataframe tbody tr th:only-of-type {\n",
       "        vertical-align: middle;\n",
       "    }\n",
       "\n",
       "    .dataframe tbody tr th {\n",
       "        vertical-align: top;\n",
       "    }\n",
       "\n",
       "    .dataframe thead th {\n",
       "        text-align: right;\n",
       "    }\n",
       "</style>\n",
       "<table border=\"1\" class=\"dataframe\">\n",
       "  <thead>\n",
       "    <tr style=\"text-align: right;\">\n",
       "      <th></th>\n",
       "      <th>Date</th>\n",
       "      <th>Open</th>\n",
       "      <th>High</th>\n",
       "      <th>Low</th>\n",
       "      <th>Close</th>\n",
       "      <th>Adj Close</th>\n",
       "      <th>Volume</th>\n",
       "    </tr>\n",
       "  </thead>\n",
       "  <tbody>\n",
       "    <tr>\n",
       "      <th>0</th>\n",
       "      <td>2017-02-08</td>\n",
       "      <td>143.570007</td>\n",
       "      <td>145.070007</td>\n",
       "      <td>142.559998</td>\n",
       "      <td>144.740005</td>\n",
       "      <td>144.740005</td>\n",
       "      <td>6887100</td>\n",
       "    </tr>\n",
       "    <tr>\n",
       "      <th>1</th>\n",
       "      <td>2017-02-09</td>\n",
       "      <td>144.979996</td>\n",
       "      <td>145.089996</td>\n",
       "      <td>143.580002</td>\n",
       "      <td>144.139999</td>\n",
       "      <td>144.139999</td>\n",
       "      <td>4555100</td>\n",
       "    </tr>\n",
       "    <tr>\n",
       "      <th>2</th>\n",
       "      <td>2017-02-10</td>\n",
       "      <td>144.679993</td>\n",
       "      <td>145.300003</td>\n",
       "      <td>143.970001</td>\n",
       "      <td>144.820007</td>\n",
       "      <td>144.820007</td>\n",
       "      <td>6171900</td>\n",
       "    </tr>\n",
       "    <tr>\n",
       "      <th>3</th>\n",
       "      <td>2017-02-13</td>\n",
       "      <td>145.190002</td>\n",
       "      <td>145.949997</td>\n",
       "      <td>143.050003</td>\n",
       "      <td>143.199997</td>\n",
       "      <td>143.199997</td>\n",
       "      <td>4790400</td>\n",
       "    </tr>\n",
       "    <tr>\n",
       "      <th>4</th>\n",
       "      <td>2017-02-14</td>\n",
       "      <td>143.199997</td>\n",
       "      <td>144.110001</td>\n",
       "      <td>140.050003</td>\n",
       "      <td>140.820007</td>\n",
       "      <td>140.820007</td>\n",
       "      <td>8367800</td>\n",
       "    </tr>\n",
       "  </tbody>\n",
       "</table>\n",
       "</div>"
      ],
      "text/plain": [
       "        Date        Open        High         Low       Close   Adj Close  \\\n",
       "0 2017-02-08  143.570007  145.070007  142.559998  144.740005  144.740005   \n",
       "1 2017-02-09  144.979996  145.089996  143.580002  144.139999  144.139999   \n",
       "2 2017-02-10  144.679993  145.300003  143.970001  144.820007  144.820007   \n",
       "3 2017-02-13  145.190002  145.949997  143.050003  143.199997  143.199997   \n",
       "4 2017-02-14  143.199997  144.110001  140.050003  140.820007  140.820007   \n",
       "\n",
       "    Volume  \n",
       "0  6887100  \n",
       "1  4555100  \n",
       "2  6171900  \n",
       "3  4790400  \n",
       "4  8367800  "
      ]
     },
     "execution_count": 16,
     "metadata": {},
     "output_type": "execute_result"
    }
   ],
   "source": [
    "df_sort.head()"
   ]
  },
  {
   "cell_type": "code",
   "execution_count": 17,
   "metadata": {},
   "outputs": [],
   "source": [
    "df_sort = df.sort_values(by='Date', ascending=True)"
   ]
  },
  {
   "cell_type": "code",
   "execution_count": 18,
   "metadata": {},
   "outputs": [
    {
     "data": {
      "text/html": [
       "<div>\n",
       "<style scoped>\n",
       "    .dataframe tbody tr th:only-of-type {\n",
       "        vertical-align: middle;\n",
       "    }\n",
       "\n",
       "    .dataframe tbody tr th {\n",
       "        vertical-align: top;\n",
       "    }\n",
       "\n",
       "    .dataframe thead th {\n",
       "        text-align: right;\n",
       "    }\n",
       "</style>\n",
       "<table border=\"1\" class=\"dataframe\">\n",
       "  <thead>\n",
       "    <tr style=\"text-align: right;\">\n",
       "      <th></th>\n",
       "      <th>Date</th>\n",
       "      <th>Open</th>\n",
       "      <th>High</th>\n",
       "      <th>Low</th>\n",
       "      <th>Close</th>\n",
       "      <th>Adj Close</th>\n",
       "      <th>Volume</th>\n",
       "    </tr>\n",
       "  </thead>\n",
       "  <tbody>\n",
       "    <tr>\n",
       "      <th>0</th>\n",
       "      <td>2017-02-08</td>\n",
       "      <td>143.570007</td>\n",
       "      <td>145.070007</td>\n",
       "      <td>142.559998</td>\n",
       "      <td>144.740005</td>\n",
       "      <td>144.740005</td>\n",
       "      <td>6887100</td>\n",
       "    </tr>\n",
       "    <tr>\n",
       "      <th>1</th>\n",
       "      <td>2017-02-09</td>\n",
       "      <td>144.979996</td>\n",
       "      <td>145.089996</td>\n",
       "      <td>143.580002</td>\n",
       "      <td>144.139999</td>\n",
       "      <td>144.139999</td>\n",
       "      <td>4555100</td>\n",
       "    </tr>\n",
       "    <tr>\n",
       "      <th>2</th>\n",
       "      <td>2017-02-10</td>\n",
       "      <td>144.679993</td>\n",
       "      <td>145.300003</td>\n",
       "      <td>143.970001</td>\n",
       "      <td>144.820007</td>\n",
       "      <td>144.820007</td>\n",
       "      <td>6171900</td>\n",
       "    </tr>\n",
       "    <tr>\n",
       "      <th>3</th>\n",
       "      <td>2017-02-13</td>\n",
       "      <td>145.190002</td>\n",
       "      <td>145.949997</td>\n",
       "      <td>143.050003</td>\n",
       "      <td>143.199997</td>\n",
       "      <td>143.199997</td>\n",
       "      <td>4790400</td>\n",
       "    </tr>\n",
       "    <tr>\n",
       "      <th>4</th>\n",
       "      <td>2017-02-14</td>\n",
       "      <td>143.199997</td>\n",
       "      <td>144.110001</td>\n",
       "      <td>140.050003</td>\n",
       "      <td>140.820007</td>\n",
       "      <td>140.820007</td>\n",
       "      <td>8367800</td>\n",
       "    </tr>\n",
       "  </tbody>\n",
       "</table>\n",
       "</div>"
      ],
      "text/plain": [
       "        Date        Open        High         Low       Close   Adj Close  \\\n",
       "0 2017-02-08  143.570007  145.070007  142.559998  144.740005  144.740005   \n",
       "1 2017-02-09  144.979996  145.089996  143.580002  144.139999  144.139999   \n",
       "2 2017-02-10  144.679993  145.300003  143.970001  144.820007  144.820007   \n",
       "3 2017-02-13  145.190002  145.949997  143.050003  143.199997  143.199997   \n",
       "4 2017-02-14  143.199997  144.110001  140.050003  140.820007  140.820007   \n",
       "\n",
       "    Volume  \n",
       "0  6887100  \n",
       "1  4555100  \n",
       "2  6171900  \n",
       "3  4790400  \n",
       "4  8367800  "
      ]
     },
     "execution_count": 18,
     "metadata": {},
     "output_type": "execute_result"
    }
   ],
   "source": [
    "df_sort.head()"
   ]
  },
  {
   "cell_type": "code",
   "execution_count": 20,
   "metadata": {},
   "outputs": [
    {
     "name": "stdout",
     "output_type": "stream",
     "text": [
      "<class 'pandas.core.frame.DataFrame'>\n",
      "Int64Index: 1259 entries, 0 to 1258\n",
      "Data columns (total 7 columns):\n",
      " #   Column     Non-Null Count  Dtype         \n",
      "---  ------     --------------  -----         \n",
      " 0   Date       1259 non-null   datetime64[ns]\n",
      " 1   Open       1259 non-null   float64       \n",
      " 2   High       1259 non-null   float64       \n",
      " 3   Low        1259 non-null   float64       \n",
      " 4   Close      1259 non-null   float64       \n",
      " 5   Adj Close  1259 non-null   float64       \n",
      " 6   Volume     1259 non-null   int64         \n",
      "dtypes: datetime64[ns](1), float64(5), int64(1)\n",
      "memory usage: 78.7 KB\n"
     ]
    }
   ],
   "source": [
    "df_sort.info()"
   ]
  },
  {
   "cell_type": "code",
   "execution_count": 21,
   "metadata": {},
   "outputs": [
    {
     "data": {
      "image/png": "[encoded data removed]",
      "text/plain": [
       "<Figure size 720x432 with 1 Axes>"
      ]
     },
     "metadata": {
      "needs_background": "light"
     },
     "output_type": "display_data"
    }
   ],
   "source": [
    "#plot close price\n",
    "plt.figure(figsize=(10,6))\n",
    "plt.xlabel('Date')\n",
    "plt.ylabel('Close Prices')\n",
    "plt.plot(df_sort['Close'])\n",
    "plt.title('Netflix Closing Price')\n",
    "plt.show()"
   ]
  },
  {
   "cell_type": "code",
   "execution_count": null,
   "metadata": {},
   "outputs": [],
   "source": []
  },
  {
   "cell_type": "code",
   "execution_count": null,
   "metadata": {},
   "outputs": [],
   "source": []
  },
  {
   "cell_type": "code",
   "execution_count": null,
   "metadata": {},
   "outputs": [],
   "source": []
  },
  {
   "cell_type": "code",
   "execution_count": null,
   "metadata": {},
   "outputs": [],
   "source": []
  },
  {
   "cell_type": "code",
   "execution_count": null,
   "metadata": {},
   "outputs": [],
   "source": []
  },
  {
   "cell_type": "code",
   "execution_count": null,
   "metadata": {},
   "outputs": [],
   "source": []
  },
  {
   "cell_type": "code",
   "execution_count": null,
   "metadata": {},
   "outputs": [],
   "source": []
  }
 ],
 "metadata": {
  "kernelspec": {
   "display_name": "Python 3",
   "language": "python",
   "name": "python3"
  },
  "language_info": {
   "codemirror_mode": {
    "name": "ipython",
    "version": 3
   },
   "file_extension": ".py",
   "mimetype": "text/x-python",
   "name": "python",
   "nbconvert_exporter": "python",
   "pygments_lexer": "ipython3",
   "version": "3.6.9"
  }
 },
 "nbformat": 4,
 "nbformat_minor": 4
}
